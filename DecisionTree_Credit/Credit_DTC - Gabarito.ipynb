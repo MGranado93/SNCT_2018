{
 "cells": [
  {
   "cell_type": "markdown",
   "metadata": {},
   "source": [
    "# Classificação utilizando Decision Trees"
   ]
  },
  {
   "cell_type": "markdown",
   "metadata": {},
   "source": [
    "**Introdução**\n",
    "Esse código irá identificar o risco de emprétimos bancários utilizando árvore de decisão"
   ]
  },
  {
   "cell_type": "markdown",
   "metadata": {},
   "source": [
    "**1 Exercício: Coleta dos dados**"
   ]
  },
  {
   "cell_type": "markdown",
   "metadata": {},
   "source": [
    "* Importe os dados do arquivo 'credit.csv'. **fonte**: [GitHub Decision Tree](https://github.com/PECCE-IFSC/DecisionTree_Credit/blob/master/credit.csv).\n",
    "* Verifique as características de cada coluna.\n",
    "* Verfifique as dimensões do Data frame.\n"
   ]
  },
  {
   "cell_type": "code",
   "execution_count": 8,
   "metadata": {},
   "outputs": [
    {
     "name": "stdout",
     "output_type": "stream",
     "text": [
      "(1000, 21)\n"
     ]
    }
   ],
   "source": [
    "import pandas as pd\n",
    "# importar os dados \n",
    "file = pd.read_csv(\"credit.csv\")\n",
    "\n",
    "# verificar características de cada coluna. \n",
    "file.columns\n",
    "# verificar as dimensões do Data frame\n",
    "print(file.shape)"
   ]
  },
  {
   "cell_type": "markdown",
   "metadata": {},
   "source": [
    "**2 Preparação dos dados**"
   ]
  },
  {
   "cell_type": "markdown",
   "metadata": {
    "collapsed": true
   },
   "source": [
    "* Utilizou-se a função **LabelEncoder()** para transformar as características com dados nominais em dados numéricos.\n",
    "* A função **LabelEncoder.fit_transform** ajusta as características e retorna os dados codificados"
   ]
  },
  {
   "cell_type": "code",
   "execution_count": null,
   "metadata": {
    "collapsed": true
   },
   "outputs": [],
   "source": [
    "from sklearn.preprocessing import LabelEncoder\n",
    "le = LabelEncoder()\n",
    "for col in ['checking_balance', 'savings_balance', \n",
    "            'employment_length', 'credit_history', \n",
    "            'purpose', 'personal_status', 'other_debtors', \n",
    "            'property', 'installment_plan', 'housing', \n",
    "            'telephone', 'foreign_worker', 'job']:\n",
    "    file[col] = le.fit_transform(file[col])"
   ]
  },
  {
   "cell_type": "markdown",
   "metadata": {},
   "source": [
    "**Exercício**\n",
    "* Verifique os tipos de dados de cada coluna após a codificação"
   ]
  },
  {
   "cell_type": "code",
   "execution_count": null,
   "metadata": {
    "collapsed": true
   },
   "outputs": [],
   "source": [
    "# verificar os tipos dos dados \n",
    "file.head()"
   ]
  },
  {
   "cell_type": "markdown",
   "metadata": {},
   "source": [
    "**3 Separação dos dados**\n",
    "* Utilizou-se a função **train_test_split** para separar os dados em teste e treino, 10% (`test_size = 0.1`) e 90%, respectivamente"
   ]
  },
  {
   "cell_type": "code",
   "execution_count": null,
   "metadata": {
    "collapsed": true
   },
   "outputs": [],
   "source": [
    "from sklearn.model_selection import train_test_split\n",
    "credit_train, credit_test = train_test_split(file, test_size = 0.1, \n",
    "                                             random_state = 123)"
   ]
  },
  {
   "cell_type": "markdown",
   "metadata": {},
   "source": [
    "**Exercício**\n",
    "* Separar a coluna `default` do `credit_train` e `credit_test`, armazenando-os em `train_labels` e `test_labels`,  respectivamente."
   ]
  },
  {
   "cell_type": "code",
   "execution_count": null,
   "metadata": {
    "collapsed": true
   },
   "outputs": [],
   "source": [
    "# Separar a coluna 'default' de credit_train\n",
    "train_labels = credit_train.pop('default')\n",
    "\n",
    "# Separar a coluna 'default' de credit_test\n",
    "test_labels = credit_test.pop('default')"
   ]
  },
  {
   "cell_type": "markdown",
   "metadata": {},
   "source": [
    "**4 Exercício: Treinar o modelo**\n",
    "* A partir da biblioteca **sklearn.tree** importou-se a classe `DecisionTreeClassifier`\n",
    "* Crie uma instância da classe com a função  **DecisionTreeClassifier()**, utilize a profundidade (`max_depth`) igual a 4.\n",
    "* Treine o algorítmo DecisionTreeClassifier, utilizando a função **DecisionTreeClassifier.fit()**\n",
    "* Com a função **DecisionTreeClassifier.predict()**, teste o código usando o DataFrame `credit_data`."
   ]
  },
  {
   "cell_type": "code",
   "execution_count": null,
   "metadata": {
    "collapsed": true
   },
   "outputs": [],
   "source": [
    "from sklearn.tree import DecisionTreeClassifier\n",
    "\n",
    "# Crie um instância da classe\n",
    "DTC = DecisionTreeClassifier(max_depth = 4)\n",
    "\n",
    "# Treine o algoritmo DecisionTreeClassifier\n",
    "DTC = DTC.fit(credit_train, train_labels)\n",
    "\n",
    "# Teste o algoritmo\n",
    "y_predict = DTC.predict(credit_test)\n"
   ]
  },
  {
   "cell_type": "markdown",
   "metadata": {},
   "source": [
    "**5 Avaliando o desempenho do modelo**\n",
    "* A partir da biblioteca **sklearn.metrics** importaram-se as funções `accuracy_score` e `confusion_matrix`\n",
    "* Calculou-se a exatidão utilizando a função **accuracy_score**"
   ]
  },
  {
   "cell_type": "code",
   "execution_count": null,
   "metadata": {
    "collapsed": true
   },
   "outputs": [],
   "source": [
    "from sklearn.metrics import accuracy_score, confusion_matrix\n",
    "\n",
    "confusion_matrix_ = pd.DataFrame (confusion_matrix(test_labels, y_predict), \n",
    "                                  columns =['Predicted Positive', 'Predicted Negative'], \n",
    "                                  index =['Actual Positive', 'Actual Negative'])\n",
    "\n",
    "print(accuracy_score (test_labels, y_predict))\n",
    "confusion_matrix_"
   ]
  },
  {
   "cell_type": "markdown",
   "metadata": {},
   "source": [
    "**6 Exportar a árvore de decisão**\n",
    "* Para visualizar a árvore de decisão é necessário criar um arquivo em formato DOT, utilizando a função **export_graphviz**, e então utilizar o seguinte site: [Graphviz](http://www.webgraphviz.com/) para exibir a árvore com os dados gerados."
   ]
  },
  {
   "cell_type": "code",
   "execution_count": null,
   "metadata": {
    "collapsed": true
   },
   "outputs": [],
   "source": [
    "from sklearn.tree import export_graphviz\n",
    "with open(\"CREDIT_TREE.txt\", \"w\") as f:\n",
    "    f = export_graphviz(DTC, out_file=f)\n",
    "    "
   ]
  },
  {
   "cell_type": "code",
   "execution_count": null,
   "metadata": {
    "collapsed": true
   },
   "outputs": [],
   "source": []
  }
 ],
 "metadata": {
  "kernelspec": {
   "display_name": "Python 3",
   "language": "python",
   "name": "python3"
  },
  "language_info": {
   "codemirror_mode": {
    "name": "ipython",
    "version": 3
   },
   "file_extension": ".py",
   "mimetype": "text/x-python",
   "name": "python",
   "nbconvert_exporter": "python",
   "pygments_lexer": "ipython3",
   "version": "3.6.1"
  }
 },
 "nbformat": 4,
 "nbformat_minor": 2
}
